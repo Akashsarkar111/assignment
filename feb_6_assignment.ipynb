{
 "cells": [
  {
   "cell_type": "code",
   "execution_count": 3,
   "id": "419a4943-d455-4375-b485-d406a0a1143a",
   "metadata": {},
   "outputs": [],
   "source": [
    "def filter1(l):\n",
    "    l1=[]\n",
    "    for i in l:\n",
    "        if type(i)==int or type(i) == float:\n",
    "            l1.append(i)\n",
    "        elif type(i)==list or type(i) == tuple or type(i) == set:\n",
    "            l1.extend(filter1(i))\n",
    "        elif type(i)== dict:\n",
    "            l2=list(i.keys())\n",
    "            l3=list(i.values())\n",
    "            l1.extend(filter1(l2))\n",
    "            l1.extend(filter1(l3))\n",
    "    return l1\n",
    "        \n",
    "            "
   ]
  },
  {
   "cell_type": "code",
   "execution_count": 4,
   "id": "d305c1a7-4b4c-47d2-ba9d-c84f4acaca27",
   "metadata": {},
   "outputs": [
    {
     "data": {
      "text/plain": [
       "[1,\n",
       " 2,\n",
       " 3,\n",
       " 4,\n",
       " 44,\n",
       " 55,\n",
       " 66,\n",
       " 34,\n",
       " 56,\n",
       " 78,\n",
       " 89,\n",
       " 34,\n",
       " 1,\n",
       " 2,\n",
       " 3,\n",
       " 1,\n",
       " 4,\n",
       " 34,\n",
       " 55,\n",
       " 67,\n",
       " 78,\n",
       " 89,\n",
       " 45,\n",
       " 22,\n",
       " 61,\n",
       " 34,\n",
       " 56]"
      ]
     },
     "execution_count": 4,
     "metadata": {},
     "output_type": "execute_result"
    }
   ],
   "source": [
    "list1 = [1,2,3,4, [44,55,66, True], False, (34,56,78,89,34), {1,2,3,3,2,1}, {1:34, \"key2\": [55, 67, 78, 89], 4: (45,\n",
    "22, 61, 34)}, [56, 'data science'], 'Machine Learning']\n",
    "filter1(list1)"
   ]
  },
  {
   "cell_type": "code",
   "execution_count": 24,
   "id": "aa91db54-f3bf-4f66-a0c4-f4ff05fd1573",
   "metadata": {},
   "outputs": [
    {
     "data": {
      "text/plain": [
       "list"
      ]
     },
     "execution_count": 24,
     "metadata": {},
     "output_type": "execute_result"
    }
   ],
   "source": [
    "type(l[5])"
   ]
  },
  {
   "cell_type": "code",
   "execution_count": 6,
   "id": "0336a6c1-69f0-4dbf-a936-4af9c168d026",
   "metadata": {},
   "outputs": [
    {
     "data": {
      "text/plain": [
       "'I$wznt$to$yexome$z$Dztz$Sxientist.'"
      ]
     },
     "execution_count": 6,
     "metadata": {},
     "output_type": "execute_result"
    }
   ],
   "source": [
    "string='I want to become a Data Scientist.'\n",
    "string.replace( 'a' ,'z').replace('b','y').replace('c','x').replace(' ','$')"
   ]
  },
  {
   "cell_type": "code",
   "execution_count": null,
   "id": "2e69729f-2798-4217-a1f8-15cc08ee765f",
   "metadata": {},
   "outputs": [],
   "source": []
  }
 ],
 "metadata": {
  "kernelspec": {
   "display_name": "Python 3 (ipykernel)",
   "language": "python",
   "name": "python3"
  },
  "language_info": {
   "codemirror_mode": {
    "name": "ipython",
    "version": 3
   },
   "file_extension": ".py",
   "mimetype": "text/x-python",
   "name": "python",
   "nbconvert_exporter": "python",
   "pygments_lexer": "ipython3",
   "version": "3.10.8"
  }
 },
 "nbformat": 4,
 "nbformat_minor": 5
}
