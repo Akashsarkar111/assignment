{
 "cells": [
  {
   "cell_type": "code",
   "execution_count": 4,
   "id": "e06f78e4-0883-4f9a-871e-3b683cec95a8",
   "metadata": {},
   "outputs": [
    {
     "name": "stdin",
     "output_type": "stream",
     "text": [
      "Enter your marks 92\n"
     ]
    },
    {
     "name": "stdout",
     "output_type": "stream",
     "text": [
      "A\n"
     ]
    }
   ],
   "source": [
    "# Que: 1\n",
    "\n",
    "marks = int(input(\"Enter your marks\"))\n",
    "if marks>90:\n",
    "    grade='A'\n",
    "elif marks<=90 and marks>80:\n",
    "    grade='B'\n",
    "elif marks<=80 and marks>=60:\n",
    "    grade = 'C'\n",
    "elif marks<60:\n",
    "    grade = 'D'\n",
    "print(grade)"
   ]
  },
  {
   "cell_type": "code",
   "execution_count": 10,
   "id": "c082906a-cdec-4105-b4c8-c1d0f1ac0c40",
   "metadata": {},
   "outputs": [
    {
     "name": "stdin",
     "output_type": "stream",
     "text": [
      "Enter your bike price 100\n"
     ]
    },
    {
     "name": "stdout",
     "output_type": "stream",
     "text": [
      "you have to pay 5.0 rupay\n"
     ]
    }
   ],
   "source": [
    "# Que:2\n",
    "\n",
    "price_of_bike = int(input(\"Enter your bike price\"))\n",
    "if price_of_bike>100000:\n",
    "    tax = price_of_bike*15/100\n",
    "elif price_of_bike<=100000 and price_of_bike>50000:\n",
    "    tax = price_of_bike*10/100\n",
    "elif price_of_bike<=50000:\n",
    "    tax = price_of_bike*5/100\n",
    "print(\"you have to pay \" +str(tax) + \" rupay\")"
   ]
  },
  {
   "cell_type": "code",
   "execution_count": 17,
   "id": "6dfa1833-a03e-446c-a425-ac4f18a77164",
   "metadata": {},
   "outputs": [
    {
     "name": "stdin",
     "output_type": "stream",
     "text": [
      " enter your city  delhi\n"
     ]
    },
    {
     "name": "stdout",
     "output_type": "stream",
     "text": [
      "Famous monument of Delhi is red fort\n"
     ]
    }
   ],
   "source": [
    "# Que: 3\n",
    "\n",
    "city_dict = { \"Delhi\": \"red fort\" , \"Agra\":\"taj mahal\", \"Jaipur\":\"jal mahal\"}\n",
    "city = input(\" enter your city \")\n",
    "print(\"Famous monument of \" + city.capitalize() +\" is \"+ city_dict.get(city.capitalize()))"
   ]
  },
  {
   "cell_type": "code",
   "execution_count": 20,
   "id": "3320f268-f884-4949-837a-b6fec33441a4",
   "metadata": {},
   "outputs": [
    {
     "name": "stdin",
     "output_type": "stream",
     "text": [
      " Enter a number 81\n"
     ]
    },
    {
     "name": "stdout",
     "output_type": "stream",
     "text": [
      "2\n"
     ]
    }
   ],
   "source": [
    "# Que: 4\n",
    "num = int(input(\"Enter a number\"))\n",
    "\n",
    "count = 0\n",
    "\n",
    "while num >=10:\n",
    "    num /= 3\n",
    "    count += 1\n",
    "\n",
    "print(count)"
   ]
  },
  {
   "cell_type": "code",
   "execution_count": 1,
   "id": "02a63dc6-553c-47ac-a22d-f80d3e86cd4f",
   "metadata": {},
   "outputs": [
    {
     "name": "stdout",
     "output_type": "stream",
     "text": [
      "0\n",
      "1\n",
      "2\n",
      "3\n",
      "4\n"
     ]
    }
   ],
   "source": [
    "# Que: 5\n",
    "\n",
    "\"\"\"A while loop is used in Python to execute a block of code \n",
    "repeatedly until a certain condition is met. The loop will continue \n",
    "to execute as long as the condition remains true. Here’s an example:\"\"\"\n",
    "\n",
    "i = 0\n",
    "\n",
    "while i < 5:\n",
    "    print(i)\n",
    "    i += 1"
   ]
  },
  {
   "cell_type": "code",
   "execution_count": 30,
   "id": "e9b4ffa1-23d0-4eb5-ad97-eba31f4f7703",
   "metadata": {},
   "outputs": [
    {
     "name": "stdin",
     "output_type": "stream",
     "text": [
      "Enter No. 3\n"
     ]
    },
    {
     "name": "stdout",
     "output_type": "stream",
     "text": [
      "  1\n",
      " 121\n",
      "12321\n"
     ]
    }
   ],
   "source": [
    "# Que: 6\n",
    "\n",
    "n = int(input(\"Enter No.\"))\n",
    "i = 1\n",
    "while i<=n:\n",
    "    j=0\n",
    "    while j<1:\n",
    "        print(' '*(n-i) + ''.join(str(j+1) for j in range(i)) + ''.join(str(j-1) for j in range(i,1,-1)))\n",
    "        j+=1\n",
    "    i+=1\n",
    "        "
   ]
  },
  {
   "cell_type": "code",
   "execution_count": 32,
   "id": "9f4bddcb-da45-4daa-9832-b5148691ac20",
   "metadata": {},
   "outputs": [
    {
     "name": "stdout",
     "output_type": "stream",
     "text": [
      "10\n",
      "9\n",
      "8\n",
      "7\n",
      "6\n",
      "5\n",
      "4\n",
      "3\n",
      "2\n",
      "1\n"
     ]
    }
   ],
   "source": [
    "# Que: 7\n",
    "\n",
    "i = 10\n",
    "while i > 0:\n",
    "    print(i)\n",
    "    i -= 1"
   ]
  },
  {
   "cell_type": "code",
   "execution_count": null,
   "id": "23c76dd1-6c38-4364-80f4-4e3017de91dc",
   "metadata": {},
   "outputs": [],
   "source": []
  }
 ],
 "metadata": {
  "kernelspec": {
   "display_name": "Python 3 (ipykernel)",
   "language": "python",
   "name": "python3"
  },
  "language_info": {
   "codemirror_mode": {
    "name": "ipython",
    "version": 3
   },
   "file_extension": ".py",
   "mimetype": "text/x-python",
   "name": "python",
   "nbconvert_exporter": "python",
   "pygments_lexer": "ipython3",
   "version": "3.10.8"
  }
 },
 "nbformat": 4,
 "nbformat_minor": 5
}
