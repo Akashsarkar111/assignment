{
 "cells": [
  {
   "cell_type": "code",
   "execution_count": 43,
   "id": "9ba415c0-96a5-4f5c-bb4c-c4005d5ccca2",
   "metadata": {},
   "outputs": [
    {
     "name": "stdout",
     "output_type": "stream",
     "text": [
      "by using for loop 55 \n",
      "\n",
      "by using while loop 55 \n",
      "\n"
     ]
    }
   ],
   "source": [
    "# QUESTION:2\n",
    "\n",
    "\n",
    "# Sum of first Natural Number using For loop\n",
    "result=0\n",
    "for i in range(11):\n",
    "    result = result + i\n",
    "print(\"By using for loop\",result,'\\n')\n",
    "\n",
    "# By Using While loop\n",
    "result1=0\n",
    "count=0\n",
    "while count<11:\n",
    "    result1+=count\n",
    "    count+=1\n",
    "print(\"By using while loop\",result1,'\\n')"
   ]
  },
  {
   "cell_type": "code",
   "execution_count": null,
   "id": "95de08da-c961-43c0-92d9-120392994adf",
   "metadata": {},
   "outputs": [],
   "source": []
  },
  {
   "cell_type": "code",
   "execution_count": 39,
   "id": "41424dd9-e638-4d80-a938-a9033db08bd5",
   "metadata": {},
   "outputs": [
    {
     "name": "stdin",
     "output_type": "stream",
     "text": [
      "Enter how many unit electricity used 7768\n"
     ]
    },
    {
     "name": "stdout",
     "output_type": "stream",
     "text": [
      "your bill is  151410\n"
     ]
    }
   ],
   "source": [
    "# QUESTION:3\n",
    "\n",
    "\n",
    "unit = int(input(\"Enter how many unit electricity used\"))\n",
    "if(unit<=100):\n",
    "    bill = unit*4.5\n",
    "elif(unit<=200):\n",
    "    bill = 450+(unit-100)*6\n",
    "elif(unit<=300):\n",
    "    bill = 450+600+(unit-200)*10\n",
    "else:\n",
    "    bill = 450+600+1000+(unit-300)*20\n",
    "print(\"your bill is \",bill)\n",
    "\n"
   ]
  },
  {
   "cell_type": "code",
   "execution_count": 54,
   "id": "11ed5eab-968d-4fc0-9a01-8dfb3c528d70",
   "metadata": {},
   "outputs": [
    {
     "name": "stdout",
     "output_type": "stream",
     "text": [
      "List of Natural Number upto 100\n",
      " [1, 2, 3, 4, 5, 6, 7, 8, 9, 10, 11, 12, 13, 14, 15, 16, 17, 18, 19, 20, 21, 22, 23, 24, 25, 26, 27, 28, 29, 30, 31, 32, 33, 34, 35, 36, 37, 38, 39, 40, 41, 42, 43, 44, 45, 46, 47, 48, 49, 50, 51, 52, 53, 54, 55, 56, 57, 58, 59, 60, 61, 62, 63, 64, 65, 66, 67, 68, 69, 70, 71, 72, 73, 74, 75, 76, 77, 78, 79, 80, 81, 82, 83, 84, 85, 86, 87, 88, 89, 90, 91, 92, 93, 94, 95, 96, 97, 98, 99, 100] \n",
      "\n",
      "Cubed list by for loop\n",
      " [1, 8, 27, 64, 125, 216, 343, 512, 729, 1000, 1331, 1728, 2197, 2744, 3375, 4096, 4913, 5832, 6859, 8000, 9261, 10648, 12167, 13824, 15625, 17576, 19683, 21952, 24389, 27000, 29791, 32768, 35937, 39304, 42875, 46656, 50653, 54872, 59319, 64000, 68921, 74088, 79507, 85184, 91125, 97336, 103823, 110592, 117649, 125000, 132651, 140608, 148877, 157464, 166375, 175616, 185193, 195112, 205379, 216000, 226981, 238328, 250047, 262144, 274625, 287496, 300763, 314432, 328509, 343000, 357911, 373248, 389017, 405224, 421875, 438976, 456533, 474552, 493039, 512000, 531441, 551368, 571787, 592704, 614125, 636056, 658503, 681472, 704969, 729000, 753571, 778688, 804357, 830584, 857375, 884736, 912673, 941192, 970299, 1000000] \n",
      "\n",
      "List of element which is divisival by 4 or 5 filtered by for loop\n",
      " [8, 64, 125, 216, 512, 1000, 1728, 2744, 3375, 4096, 5832, 8000, 10648, 13824, 15625, 17576, 21952, 27000, 32768, 39304, 42875, 46656, 54872, 64000, 74088, 85184, 91125, 97336, 110592, 125000, 140608, 157464, 166375, 175616, 195112, 216000, 238328, 262144, 274625, 287496, 314432, 343000, 373248, 405224, 421875, 438976, 474552, 512000, 551368, 592704, 614125, 636056, 681472, 729000, 778688, 830584, 857375, 884736, 941192, 1000000] \n",
      "\n",
      "Cubed list by while loop\n",
      " [0, 1, 8, 27, 64, 125, 216, 343, 512, 729, 1000, 1331, 1728, 2197, 2744, 3375, 4096, 4913, 5832, 6859, 8000, 9261, 10648, 12167, 13824, 15625, 17576, 19683, 21952, 24389, 27000, 29791, 32768, 35937, 39304, 42875, 46656, 50653, 54872, 59319, 64000, 68921, 74088, 79507, 85184, 91125, 97336, 103823, 110592, 117649, 125000, 132651, 140608, 148877, 157464, 166375, 175616, 185193, 195112, 205379, 216000, 226981, 238328, 250047, 262144, 274625, 287496, 300763, 314432, 328509, 343000, 357911, 373248, 389017, 405224, 421875, 438976, 456533, 474552, 493039, 512000, 531441, 551368, 571787, 592704, 614125, 636056, 658503, 681472, 704969, 729000, 753571, 778688, 804357, 830584, 857375, 884736, 912673, 941192, 970299] \n",
      "\n",
      "List of element which is divisival by 4 or 5 filtered by while loop\n",
      " [0, 8, 64, 125, 216, 512, 1000, 1728, 2744, 3375, 4096, 5832, 8000, 10648, 13824, 15625, 17576, 21952, 27000, 32768, 39304, 42875, 46656, 54872, 64000, 74088, 85184, 91125, 97336, 110592, 125000, 140608, 157464, 166375, 175616, 195112, 216000, 238328, 262144, 274625, 287496, 314432, 343000, 373248, 405224, 421875, 438976, 474552, 512000, 551368, 592704, 614125, 636056, 681472, 729000, 778688, 830584, 857375, 884736, 941192]\n"
     ]
    }
   ],
   "source": [
    "# QUESTION:4\n",
    "\n",
    "# Creating list\n",
    "List=list(range(1,101))\n",
    "print(\"List of Natural Number upto 100\\n\",List,'\\n')\n",
    "\n",
    "# Calculating Cube and Filtering by for loop\n",
    "Filter=[]\n",
    "l1=[]\n",
    "for i in List:\n",
    "    a = i*i*i\n",
    "    l1.append(a)\n",
    "    if a%4==0 or a%5==0:\n",
    "        Filter.append(a)\n",
    "print(\"Cubed list by for loop\\n\",l1,'\\n')\n",
    "print(\"List of element which is divisival by 4 or 5 filtered by for loop\\n\",Filter,'\\n')\n",
    "\n",
    "# Calculating Cube and Filtering by while loop\n",
    "Filter=[]\n",
    "l1=[]\n",
    "count=0\n",
    "while count<len(List):\n",
    "    a=count*count*count\n",
    "    l1.append(a)\n",
    "    if a%4==0 or a%5==0:\n",
    "        Filter.append(a)\n",
    "    count+=1\n",
    "print(\"Cubed list by while loop\\n\",l1,'\\n')\n",
    "print(\"List of element which is divisival by 4 or 5 filtered by while loop\\n\",Filter)"
   ]
  },
  {
   "cell_type": "code",
   "execution_count": 50,
   "id": "b9d41457-31f3-4fa2-907e-c5de36a681e4",
   "metadata": {},
   "outputs": [
    {
     "name": "stdout",
     "output_type": "stream",
     "text": [
      "By using for loop 12\n",
      "['I', 'a', 'o', 'e', 'o', 'e', 'a', 'a', 'a', 'i', 'e', 'i']\n",
      "By using while loop 12\n",
      "['I', 'a', 'o', 'e', 'o', 'e', 'a', 'a', 'a', 'i', 'e', 'i']\n"
     ]
    }
   ],
   "source": [
    "# QIUESTION:5\n",
    "\n",
    "\n",
    "string = \"I want to become a data scientist\"\n",
    "\n",
    "# By using for loop\n",
    "a=0\n",
    "l=[]\n",
    "for i in string:\n",
    "    if(i=='A' or i=='a' or i=='E' or i=='e' or i=='I' or i=='i' or i=='O' or i=='o' or i=='U' or i=='u'):\n",
    "        a+=1\n",
    "        l.append(i)\n",
    "print('By using for loop',a)\n",
    "print(l)\n",
    "\n",
    "# By using while loop\n",
    "l=[]\n",
    "a=0\n",
    "count=0\n",
    "while count<len(string):\n",
    "    if(string[count]=='A' or string[count]=='a' or string[count]=='E' or string[count]=='e' or string[count]=='I' or string[count]=='i' or string[count]=='O' or string[count]=='o' or string[count]=='U' or string[count]=='u'):\n",
    "        a+=1\n",
    "        l.append(string[count])\n",
    "    count+=1\n",
    "print(\"By using while loop\",a)\n",
    "print(l)"
   ]
  },
  {
   "cell_type": "code",
   "execution_count": null,
   "id": "5b302a59-3c0e-4088-837b-85a0317f25b2",
   "metadata": {},
   "outputs": [],
   "source": []
  }
 ],
 "metadata": {
  "kernelspec": {
   "display_name": "Python 3 (ipykernel)",
   "language": "python",
   "name": "python3"
  },
  "language_info": {
   "codemirror_mode": {
    "name": "ipython",
    "version": 3
   },
   "file_extension": ".py",
   "mimetype": "text/x-python",
   "name": "python",
   "nbconvert_exporter": "python",
   "pygments_lexer": "ipython3",
   "version": "3.10.8"
  }
 },
 "nbformat": 4,
 "nbformat_minor": 5
}
